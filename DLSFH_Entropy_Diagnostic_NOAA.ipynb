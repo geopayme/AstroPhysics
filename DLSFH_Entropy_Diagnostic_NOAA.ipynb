{
  "cells": [
    {
      "cell_type": "markdown",
      "metadata": {
        "id": "view-in-github",
        "colab_type": "text"
      },
      "source": [
        "<a href=\"https://colab.research.google.com/github/geopayme/AstroPhysics/blob/main/DLSFH_Entropy_Diagnostic_NOAA.ipynb\" target=\"_parent\"><img src=\"https://colab.research.google.com/assets/colab-badge.svg\" alt=\"Open In Colab\"/></a>"
      ]
    },
    {
      "cell_type": "markdown",
      "id": "319a958b",
      "metadata": {
        "id": "319a958b"
      },
      "source": [
        "# 🌞 DLSFH Entropy Full Diagnostic Notebook (with Real NOAA Data)\n",
        "This notebook:\n",
        "1. Extracts entropy from solar magnetogram\n",
        "2. Projects SGCV coherence states (ψₛ, ψₛ★)\n",
        "3. Overlays real NOAA Solar Cycle 25 sunspot data for validation\n"
      ]
    },
    {
      "cell_type": "code",
      "execution_count": null,
      "id": "fd80564b",
      "metadata": {
        "id": "fd80564b"
      },
      "outputs": [],
      "source": [
        "# 📤 Upload solar magnetogram image\n",
        "from google.colab import files\n",
        "uploaded = files.upload()\n",
        "image_path = next(iter(uploaded))\n",
        "print(f'🖼️ Using image: {image_path}')"
      ]
    },
    {
      "cell_type": "code",
      "execution_count": null,
      "id": "e26344d3",
      "metadata": {
        "id": "e26344d3"
      },
      "outputs": [],
      "source": [
        "import numpy as np\n",
        "import matplotlib.pyplot as plt\n",
        "from PIL import Image\n",
        "from scipy.ndimage import sobel, generic_filter\n",
        "import os, re\n",
        "from datetime import datetime\n",
        "import matplotlib.dates as mdates\n",
        "from dateutil.relativedelta import relativedelta\n",
        "import pandas as pd"
      ]
    },
    {
      "cell_type": "code",
      "execution_count": null,
      "id": "59f7d23c",
      "metadata": {
        "id": "59f7d23c"
      },
      "outputs": [],
      "source": [
        "# 🧠 Load and process image to generate entropy map\n",
        "img = Image.open(image_path).convert('L')\n",
        "img_array = np.array(img)\n",
        "h, w = img_array.shape\n",
        "cx, cy = w // 2, h // 2\n",
        "radius = min(cx, cy) - 10\n",
        "y_idx, x_idx = np.ogrid[:h, :w]\n",
        "mask = (x_idx - cx)**2 + (y_idx - cy)**2 <= radius**2\n",
        "\n",
        "gradient_x = sobel(img_array, axis=1)\n",
        "gradient_y = sobel(img_array, axis=0)\n",
        "magnitude = np.hypot(gradient_x, gradient_y)\n",
        "local_var = generic_filter(img_array.astype(float), np.var, size=11)\n",
        "\n",
        "grad_norm = (magnitude - np.min(magnitude)) / (np.ptp(magnitude) + 1e-8)\n",
        "var_norm = (local_var - np.min(local_var)) / (np.ptp(local_var) + 1e-8)\n",
        "entropy_map = (grad_norm + var_norm) / 2.0\n",
        "entropy_map[~mask] = 0"
      ]
    },
    {
      "cell_type": "code",
      "execution_count": null,
      "id": "83938309",
      "metadata": {
        "id": "83938309"
      },
      "outputs": [],
      "source": [
        "# 🧩 DLSFH 20-node entropy vector + SGCV projection\n",
        "angles = np.linspace(0, 2 * np.pi, 21)\n",
        "radii = [0.3, 0.65]\n",
        "zones = [(int(cx + r * radius * np.cos((angles[i]+angles[i+1])/2)),\n",
        "          int(cy + r * radius * np.sin((angles[i]+angles[i+1])/2)))\n",
        "         for r in radii for i in range(10)]\n",
        "kernel = 20\n",
        "vector = np.array([\n",
        "    np.mean(entropy_map[max(0, y-kernel):min(h, y+kernel), max(0, x-kernel):min(w, x+kernel)])\n",
        "    for x, y in zones\n",
        "])\n",
        "threshold = 0.07\n",
        "phases = np.where(vector >= threshold, 'ψₛ★', 'ψₛ')"
      ]
    },
    {
      "cell_type": "code",
      "execution_count": null,
      "id": "7f435533",
      "metadata": {
        "id": "7f435533"
      },
      "outputs": [],
      "source": [
        "# 🗺️ Annotated entropy map\n",
        "fig, ax = plt.subplots(figsize=(6,6))\n",
        "ax.imshow(entropy_map, cmap='inferno')\n",
        "for i, (x, y) in enumerate(zones):\n",
        "    color = 'red' if vector[i] >= threshold else 'blue'\n",
        "    label = f'{vector[i]:.3f}\\n{phases[i]}'\n",
        "    ax.plot(x, y, 'o', color=color)\n",
        "    ax.text(x+5, y, label, fontsize=7, color=color)\n",
        "ax.set_title('Entropy Map with DLSFH Node Annotations')\n",
        "ax.axis('off')\n",
        "plt.tight_layout()\n",
        "plt.show()"
      ]
    },
    {
      "cell_type": "code",
      "execution_count": null,
      "id": "fe22f358",
      "metadata": {
        "id": "fe22f358"
      },
      "outputs": [],
      "source": [
        "# 📊 Load real NOAA Solar Cycle 25 data\n",
        "sunspot_df = pd.read_csv('/mnt/data/noaa_solar_cycle25_sunspots.csv')\n",
        "sunspot_df['date'] = pd.to_datetime(sunspot_df['date'])"
      ]
    },
    {
      "cell_type": "code",
      "execution_count": null,
      "id": "5685b8bc",
      "metadata": {
        "id": "5685b8bc"
      },
      "outputs": [],
      "source": [
        "# ⏱️ Match image date\n",
        "try:\n",
        "    match = re.search(r'(\\d{2})(\\d{2})(\\d{2})t', image_path)\n",
        "    yr, mo, dy = match.groups()\n",
        "    year_full = int('20' + yr) if int(yr) < 50 else int('19' + yr)\n",
        "    image_date = datetime(year_full, int(mo), int(dy))\n",
        "except:\n",
        "    image_date = datetime(2025, 3, 28)"
      ]
    },
    {
      "cell_type": "code",
      "execution_count": null,
      "id": "d3691346",
      "metadata": {
        "id": "d3691346"
      },
      "outputs": [],
      "source": [
        "# 📈 NOAA solar cycle plot\n",
        "fig, ax = plt.subplots(figsize=(10,4))\n",
        "ax.plot(sunspot_df['date'], sunspot_df['sunspots'], label='NOAA Monthly Smoothed Sunspots')\n",
        "ax.axvline(image_date, color='red', linestyle='--', label=f'Image Date: {image_date.date()}')\n",
        "ax.set_title('NOAA Solar Cycle 25 Timeline')\n",
        "ax.set_ylabel('Sunspot Number')\n",
        "ax.legend()\n",
        "ax.xaxis.set_major_formatter(mdates.DateFormatter('%Y-%m'))\n",
        "fig.autofmt_xdate()\n",
        "plt.grid(True)\n",
        "plt.tight_layout()\n",
        "plt.show()"
      ]
    },
    {
      "cell_type": "code",
      "execution_count": null,
      "id": "e5ac5aaa",
      "metadata": {
        "id": "e5ac5aaa"
      },
      "outputs": [],
      "source": [
        "# 🧠 SGCV-DLSFH Diagnostic Output\n",
        "print('=== Final Coherence Diagnosis ===')\n",
        "print(f'Date: {image_date.date()}')\n",
        "print(f'Mean Entropy: {np.mean(vector):.4f} | Std: {np.std(vector):.4f}')\n",
        "print(f'Collapsed (ψₛ★): {np.sum(phases == \"ψₛ★\")} / 20')\n",
        "if np.all(phases == 'ψₛ★'):\n",
        "    print('🔥 Full collapse — magnetic reversal or maximum likely.')\n",
        "elif np.any(phases == 'ψₛ★'):\n",
        "    print('⚠️ Partial decoherence — transitional surface flux.')\n",
        "else:\n",
        "    print('✅ Stable coherence state — low or rising cycle phase.')"
      ]
    }
  ],
  "metadata": {
    "colab": {
      "provenance": [],
      "include_colab_link": true
    }
  },
  "nbformat": 4,
  "nbformat_minor": 5
}