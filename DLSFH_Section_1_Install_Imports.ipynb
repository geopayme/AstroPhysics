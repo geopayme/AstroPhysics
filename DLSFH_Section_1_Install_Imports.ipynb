{
  "cells": [
    {
      "cell_type": "markdown",
      "metadata": {
        "id": "view-in-github",
        "colab_type": "text"
      },
      "source": [
        "<a href=\"https://colab.research.google.com/github/geopayme/AstroPhysics/blob/main/DLSFH_Section_1_Install_Imports.ipynb\" target=\"_parent\"><img src=\"https://colab.research.google.com/assets/colab-badge.svg\" alt=\"Open In Colab\"/></a>"
      ]
    },
    {
      "cell_type": "markdown",
      "id": "02fe2e48",
      "metadata": {
        "id": "02fe2e48"
      },
      "source": [
        "## 📦 Section 1: Install & Imports"
      ]
    },
    {
      "cell_type": "code",
      "execution_count": 1,
      "id": "d65b5a58",
      "metadata": {
        "colab": {
          "base_uri": "https://localhost:8080/"
        },
        "id": "d65b5a58",
        "outputId": "10b6d6c2-ce72-499b-a6dd-e43a3d675f88"
      },
      "outputs": [
        {
          "output_type": "stream",
          "name": "stdout",
          "text": [
            "W: Skipping acquire of configured file 'main/source/Sources' as repository 'https://r2u.stat.illinois.edu/ubuntu jammy InRelease' does not seem to provide it (sources.list entry misspelt?)\n",
            "✅ All dependencies installed and imports loaded.\n"
          ]
        }
      ],
      "source": [
        "# ===============================\n",
        "# 📦 Section 1: Install & Imports\n",
        "# ===============================\n",
        "\n",
        "# -- Install OCR dependencies (for image date detection) --\n",
        "!apt-get update -qq > /dev/null\n",
        "!apt-get install -y tesseract-ocr > /dev/null\n",
        "!pip install pytesseract --quiet\n",
        "\n",
        "# -- Python Libraries --\n",
        "import numpy as np\n",
        "import pandas as pd\n",
        "import matplotlib.pyplot as plt\n",
        "import matplotlib.dates as mdates\n",
        "from datetime import datetime\n",
        "from pathlib import Path\n",
        "from PIL import Image\n",
        "import pytesseract\n",
        "import cv2\n",
        "import json\n",
        "import re\n",
        "from google.colab import files\n",
        "\n",
        "# ✅ Confirm setup\n",
        "print(\"✅ All dependencies installed and imports loaded.\")\n"
      ]
    }
  ],
  "metadata": {
    "colab": {
      "provenance": [],
      "include_colab_link": true
    },
    "language_info": {
      "name": "python"
    },
    "kernelspec": {
      "name": "python3",
      "display_name": "Python 3"
    }
  },
  "nbformat": 4,
  "nbformat_minor": 5
}