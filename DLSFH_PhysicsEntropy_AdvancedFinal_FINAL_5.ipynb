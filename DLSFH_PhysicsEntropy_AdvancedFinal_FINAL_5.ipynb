{
  "cells": [
    {
      "cell_type": "markdown",
      "metadata": {
        "id": "view-in-github",
        "colab_type": "text"
      },
      "source": [
        "<a href=\"https://colab.research.google.com/github/geopayme/AstroPhysics/blob/main/DLSFH_PhysicsEntropy_AdvancedFinal_FINAL_5.ipynb\" target=\"_parent\"><img src=\"https://colab.research.google.com/assets/colab-badge.svg\" alt=\"Open In Colab\"/></a>"
      ]
    },
    {
      "cell_type": "code",
      "execution_count": null,
      "id": "cb9da68c",
      "metadata": {
        "id": "cb9da68c"
      },
      "outputs": [],
      "source": [
        "# 🛠️ Ensure Tesseract OCR is installed\n",
        "!apt-get -y install tesseract-ocr\n",
        "!pip install -q pytesseract\n"
      ]
    },
    {
      "cell_type": "markdown",
      "id": "0754a955",
      "metadata": {
        "id": "0754a955"
      },
      "source": [
        "# 🌀 DLSFH_PhysicsEntropy_AdvancedFinal\n",
        "Advanced solar entropy mapping, DLSFH projection, and SGCV diagnostics."
      ]
    },
    {
      "cell_type": "markdown",
      "id": "c822da7a",
      "metadata": {
        "id": "c822da7a"
      },
      "source": [
        "## 📤 Upload Magnetogram Image"
      ]
    },
    {
      "cell_type": "code",
      "execution_count": null,
      "id": "8b648a88",
      "metadata": {
        "id": "8b648a88"
      },
      "outputs": [],
      "source": [
        "from google.colab import files\n",
        "uploaded = files.upload()\n",
        "image_path = next(iter(uploaded))\n",
        "print(f\"✅ Uploaded: {image_path}\")\n"
      ]
    },
    {
      "cell_type": "markdown",
      "id": "f7bf3fed",
      "metadata": {
        "id": "f7bf3fed"
      },
      "source": [
        "## 📆 Extract Image Date (Filename or OCR Fallback)"
      ]
    },
    {
      "cell_type": "code",
      "execution_count": null,
      "id": "0af3cf32",
      "metadata": {
        "id": "0af3cf32"
      },
      "outputs": [],
      "source": [
        "import re\n",
        "from datetime import datetime\n",
        "from PIL import Image\n",
        "import pytesseract\n",
        "\n",
        "def extract_date(image_path):\n",
        "    filename = image_path  # already a string like 'bbzqa250328t0004_dim-860.jpg'\n",
        "\n",
        "    # Try filename pattern: bbzqaYYMMDD\n",
        "    match = re.search(r'bbzqa(\\d{6})', filename)\n",
        "    if match:\n",
        "        yymmdd = match.group(1)\n",
        "        year = int('20' + yymmdd[:2])\n",
        "        month = int(yymmdd[2:4])\n",
        "        day = int(yymmdd[4:6])\n",
        "        try:\n",
        "            return datetime(year, month, day)\n",
        "        except:\n",
        "            pass  # fallback to OCR\n",
        "\n",
        "    # OCR fallback\n",
        "    try:\n",
        "        img = Image.open(image_path)\n",
        "        text = pytesseract.image_to_string(img)\n",
        "        print(\"🧠 OCR output:\", text[:100])  # Show partial result for debugging\n",
        "\n",
        "        date_match = re.search(r\"(\\d{4})[/-](\\d{1,2})[/-](\\d{1,2})\", text)\n",
        "        if date_match:\n",
        "            year, month, day = map(int, date_match.groups())\n",
        "            return datetime(year, month, day)\n",
        "    except Exception as e:\n",
        "        print(\"⚠️ OCR failed:\", e)\n",
        "\n",
        "    # Manual fallback\n",
        "    try:\n",
        "        manual = input(\"Enter image date (YYYY-MM-DD): \")\n",
        "        return datetime.strptime(manual.strip(), \"%Y-%m-%d\")\n",
        "    except:\n",
        "        return None\n",
        "\n",
        "image_date = extract_date(image_path)\n",
        "print(\"🕒 Image Date:\", image_date)\n"
      ]
    },
    {
      "cell_type": "markdown",
      "id": "2c325b73",
      "metadata": {
        "id": "2c325b73"
      },
      "source": [
        "## 🔍 Entropy Mapping with Edge + Variance Enhancements"
      ]
    },
    {
      "cell_type": "code",
      "execution_count": null,
      "id": "adeaa561",
      "metadata": {
        "id": "adeaa561"
      },
      "outputs": [],
      "source": [
        "import numpy as np\n",
        "from PIL import Image\n",
        "from scipy.ndimage import sobel, generic_filter\n",
        "import matplotlib.pyplot as plt\n",
        "\n",
        "# Load grayscale\n",
        "img = Image.open(image_path).convert('L')\n",
        "img_array = np.array(img)\n",
        "h, w = img_array.shape\n",
        "cx, cy = w // 2, h // 2\n",
        "radius = min(cx, cy) - 10\n",
        "y_idx, x_idx = np.ogrid[:h, :w]\n",
        "mask = (x_idx - cx)**2 + (y_idx - cy)**2 <= radius**2\n",
        "disk_pixels = img_array[mask]\n",
        "\n",
        "# Compute Sobel and variance maps\n",
        "sx = sobel(img_array, axis=1)\n",
        "sy = sobel(img_array, axis=0)\n",
        "grad_mag = np.hypot(sx, sy)\n",
        "local_var = generic_filter(img_array.astype(float), np.var, size=7)\n",
        "\n",
        "# Normalize and blend\n",
        "grad_norm = (grad_mag - grad_mag.min()) / (np.ptp(grad_mag) + 1e-8)\n",
        "var_norm = (local_var - local_var.min()) / (np.ptp(local_var) + 1e-8)\n",
        "enhanced_entropy = (grad_norm + var_norm) / 2.0\n",
        "entropy_map = np.zeros_like(img_array, dtype=float)\n",
        "entropy_map[mask] = enhanced_entropy[mask]\n",
        "\n",
        "# Plot\n",
        "plt.imshow(entropy_map, cmap='inferno')\n",
        "plt.title(\"Generated Entropy Map\")\n",
        "plt.axis('off')\n",
        "plt.colorbar()\n",
        "plt.show()\n"
      ]
    },
    {
      "cell_type": "markdown",
      "id": "193010f4",
      "metadata": {
        "id": "193010f4"
      },
      "source": [
        "## 🔵 Project Entropy to DLSFH 20-Node Core"
      ]
    },
    {
      "cell_type": "code",
      "execution_count": null,
      "id": "3536e151",
      "metadata": {
        "id": "3536e151"
      },
      "outputs": [],
      "source": [
        "# DLSFH nodes on solar disk\n",
        "node_coords = [(cx + radius*np.cos(2*np.pi*i/20)*0.75, cy + radius*np.sin(2*np.pi*i/20)*0.75) for i in range(20)]\n",
        "node_values = [entropy_map[int(y)][int(x)] for x, y in node_coords]\n",
        "entropy_vector = np.round(node_values, 4)\n",
        "print(\"Entropy Vector:\", entropy_vector)\n"
      ]
    },
    {
      "cell_type": "markdown",
      "id": "545cbc85",
      "metadata": {
        "id": "545cbc85"
      },
      "source": [
        "## 📍 Annotated Map with DLSFH Nodes"
      ]
    },
    {
      "cell_type": "code",
      "execution_count": null,
      "id": "25699e9b",
      "metadata": {
        "id": "25699e9b"
      },
      "outputs": [],
      "source": [
        "plt.imshow(entropy_map, cmap='inferno')\n",
        "for i, (x, y) in enumerate(node_coords):\n",
        "    plt.plot(x, y, 'ro')\n",
        "    plt.text(x+5, y, str(i), color='white', fontsize=8)\n",
        "plt.title(\"Entropy Map with DLSFH Node Annotations\")\n",
        "plt.axis('off')\n",
        "plt.show()\n"
      ]
    },
    {
      "cell_type": "markdown",
      "id": "ac5756e3",
      "metadata": {
        "id": "ac5756e3"
      },
      "source": [
        "## 🧠 MC–SGCV Diagnostic Report"
      ]
    },
    {
      "cell_type": "code",
      "execution_count": null,
      "id": "589d2073",
      "metadata": {
        "id": "589d2073"
      },
      "outputs": [],
      "source": [
        "σ_c = 0.07\n",
        "mean_entropy = np.mean(entropy_vector)\n",
        "std_entropy = np.std(entropy_vector)\n",
        "inner_ring = entropy_vector[:10]\n",
        "outer_ring = entropy_vector[10:]\n",
        "collapsed_nodes = np.sum(entropy_vector >= σ_c)\n",
        "\n",
        "print(\"=== DLSFH Entropy Report:\", image_date.date(), \"===\")\n",
        "print(f\"Mean Entropy: {mean_entropy:.4f} | Std Dev: {std_entropy:.4f}\")\n",
        "print(f\"Collapsed Nodes (≥ {σ_c}): {collapsed_nodes} / 20\")\n",
        "print(f\"Inner Mean: {np.mean(inner_ring):.4f} | Outer Mean: {np.mean(outer_ring):.4f}\")\n",
        "print(f\"Ring Divergence (Outer - Inner): {np.mean(outer_ring) - np.mean(inner_ring):.4f}\")\n",
        "\n",
        "# Add MC–SGCV Structured Summary\n",
        "if collapsed_nodes > 10:\n",
        "    print(\"\\n⚠️ Coherence tensor is fragmented.\")\n",
        "    print(\"⚠️ SGCV background may be unable to regulate gravito-magnetic balance.\")\n",
        "    print(\"⚠️ This may foreshadow M-class or X-class flare activity.\")\n",
        "else:\n",
        "    print(\"\\n✅ Coherence structure appears stable — no imminent decoherence.\")\n"
      ]
    },
    {
      "cell_type": "markdown",
      "id": "b6dd565c",
      "metadata": {
        "id": "b6dd565c"
      },
      "source": [
        "## 🌞 NOAA Sunspot Timeline Alignment"
      ]
    },
    {
      "cell_type": "code",
      "execution_count": null,
      "id": "6ce5f5b7",
      "metadata": {
        "id": "6ce5f5b7"
      },
      "outputs": [],
      "source": [
        "# 📈 Load NOAA Sunspot Data (API or CSV fallback)\n",
        "import requests\n",
        "import pandas as pd\n",
        "import matplotlib.pyplot as plt\n",
        "import matplotlib.dates as mdates\n",
        "\n",
        "noaa_url = \"https://services.swpc.noaa.gov/json/solar-cycle/observed-solar-cycle-indices.json\"\n",
        "try:\n",
        "    response = requests.get(noaa_url)\n",
        "    response.raise_for_status()\n",
        "    data = response.json()\n",
        "    df = pd.DataFrame(data)\n",
        "    df['date'] = pd.to_datetime(df['time-tag'], errors='coerce')\n",
        "    df = df[['date', 'ssn']].dropna()\n",
        "    print(f\"✅ Loaded NOAA API sunspot data: {len(df)} records.\")\n",
        "except Exception as e:\n",
        "    print(\"⚠️ NOAA API failed. Upload sunspot CSV with 'date' and 'ssn' columns.\")\n",
        "    from google.colab import files\n",
        "    uploaded = files.upload()\n",
        "    filename = next(iter(uploaded))\n",
        "    df = pd.read_csv(filename)\n",
        "    df['date'] = pd.to_datetime(df['date'])\n",
        "    print(f\"✅ Loaded user CSV sunspot data: {len(df)} records.\")\n",
        "\n",
        "# Plot timeline with image date overlay\n",
        "fig, ax = plt.subplots(figsize=(10, 4))\n",
        "ax.plot(df['date'], df['ssn'], label='Smoothed Sunspot Number')\n",
        "ax.axvline(image_date, color='red', linestyle='--', label=f'Image Date: {image_date.date()}')\n",
        "ax.set_title('NOAA Solar Cycle Alignment')\n",
        "ax.set_ylabel('Sunspot Number')\n",
        "ax.legend()\n",
        "ax.xaxis.set_major_formatter(mdates.DateFormatter('%Y-%m'))\n",
        "plt.grid(True)\n",
        "plt.tight_layout()\n",
        "plt.show()\n"
      ]
    },
    {
      "cell_type": "markdown",
      "id": "afb7f30c",
      "metadata": {
        "id": "afb7f30c"
      },
      "source": [
        "---\n",
        "\n",
        "## 📘 Diagnostic Term Legend\n",
        "\n",
        "**🧠 Coherence Tensor Fragmentation**  \n",
        "A fragmented tensor indicates loss of stability at a node due to high entropy. It implies that the local quantum-gravitational and magnetic field alignment is disrupted.\n",
        "\n",
        "**🌌 SGCV Background Stability**  \n",
        "The SGCV (Superluminal Graviton Condensate Vacuum) regulates solar balance. When coherence collapses at many nodes, the SGCV field can no longer suppress turbulence — this may foreshadow solar flares or CMEs.\n",
        "\n",
        "**🔄 Ring Divergence (Outer - Inner)**  \n",
        "The difference in entropy between outer and inner DLSFH nodes.  \n",
        "• Negative = Core buildup (sunspots forming)  \n",
        "• Positive = Surface flux escape (flare risk)\n",
        "\n",
        "**🔥 Collapsed Nodes**  \n",
        "Nodes where entropy exceeds the coherence threshold (σ₍c₎). These regions are energetically unstable and magnetically incoherent.\n",
        "\n",
        "**🟢/🟡/🔴 Entropy States**  \n",
        "Visual classification of global system entropy:  \n",
        "🟢 Low → Coherent (Minimum Phase)  \n",
        "🟡 Moderate → Transition (Magnetic Buildup)  \n",
        "🔴 High → Fragmented (Active or Flare Phase)\n"
      ]
    },
    {
      "cell_type": "markdown",
      "id": "3f68594c",
      "metadata": {
        "id": "3f68594c"
      },
      "source": [
        "## 🔄 Dual-Node Projection: DLSFH Idealized vs. Entropy-Adaptive Overlay"
      ]
    },
    {
      "cell_type": "code",
      "execution_count": null,
      "id": "a7a191bf",
      "metadata": {
        "id": "a7a191bf"
      },
      "outputs": [],
      "source": [
        "# === Dual-Layer Node Mapping: Idealized Circle + Entropy-Adaptive Overlay ===\n",
        "import numpy as np\n",
        "import matplotlib.pyplot as plt\n",
        "from scipy.ndimage import gaussian_filter\n",
        "from skimage.feature import peak_local_max\n",
        "\n",
        "# Load entropy map\n",
        "entropy_map = np.load(\"DLSFH_entropy_map_full.npy\")\n",
        "\n",
        "# Parameters\n",
        "h, w = entropy_map.shape\n",
        "cx, cy = w // 2, h // 2\n",
        "radius = min(cx, cy) * 0.85\n",
        "\n",
        "# Idealized Geometry\n",
        "angles = np.linspace(0, 2 * np.pi, 20, endpoint=False)\n",
        "ideal_x = cx + radius * np.cos(angles)\n",
        "ideal_y = cy + radius * np.sin(angles)\n",
        "\n",
        "# Adaptive Nodes\n",
        "smoothed_entropy = gaussian_filter(entropy_map, sigma=3)\n",
        "adaptive_coords = peak_local_max(smoothed_entropy, num_peaks=20)\n",
        "\n",
        "# Plot Both Overlays\n",
        "fig, ax = plt.subplots(figsize=(6, 6))\n",
        "ax.imshow(entropy_map, cmap='inferno')\n",
        "ax.set_title(\"🧭 DLSFH: Idealized vs Adaptive Entropy Nodes\")\n",
        "\n",
        "# Idealized\n",
        "for i, (x, y) in enumerate(zip(ideal_x, ideal_y)):\n",
        "    ax.plot(x, y, 'ro', label='Idealized' if i == 0 else \"\")\n",
        "    ax.text(x + 5, y, str(i), color='white', fontsize=8)\n",
        "\n",
        "# Adaptive\n",
        "for i, (y, x) in enumerate(adaptive_coords):  # row, col\n",
        "    ax.plot(x, y, 'go', label='Adaptive' if i == 0 else \"\")\n",
        "    ax.text(x + 5, y, f\"A{i}\", color='lime', fontsize=8)\n",
        "\n",
        "ax.legend()\n",
        "ax.axis('off')\n",
        "plt.tight_layout()\n",
        "plt.savefig(\"DLSFH_entropy_dual_node_overlay.png\", dpi=300)\n",
        "plt.show()\n"
      ]
    }
  ],
  "metadata": {
    "colab": {
      "provenance": [],
      "include_colab_link": true
    }
  },
  "nbformat": 4,
  "nbformat_minor": 5
}