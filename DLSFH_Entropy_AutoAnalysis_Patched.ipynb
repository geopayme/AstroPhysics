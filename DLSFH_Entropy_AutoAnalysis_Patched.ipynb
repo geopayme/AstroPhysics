{
  "cells": [
    {
      "cell_type": "markdown",
      "metadata": {
        "id": "view-in-github",
        "colab_type": "text"
      },
      "source": [
        "<a href=\"https://colab.research.google.com/github/geopayme/AstroPhysics/blob/main/DLSFH_Entropy_AutoAnalysis_Patched.ipynb\" target=\"_parent\"><img src=\"https://colab.research.google.com/assets/colab-badge.svg\" alt=\"Open In Colab\"/></a>"
      ]
    },
    {
      "cell_type": "markdown",
      "id": "c5b0c5e8",
      "metadata": {
        "id": "c5b0c5e8"
      },
      "source": [
        "# ☀️ DLSFH Enhanced Diagnostic Notebook\n",
        "Includes entropy mapping, SGCV coherence analysis, and NOAA sunspot timeline with fallback logic."
      ]
    },
    {
      "cell_type": "code",
      "execution_count": null,
      "id": "19cc100c",
      "metadata": {
        "id": "19cc100c"
      },
      "outputs": [],
      "source": [
        "# ✅ Install dependencies (Colab only)\n",
        "!apt-get install -y tesseract-ocr\n",
        "!pip install -q pytesseract\n"
      ]
    },
    {
      "cell_type": "code",
      "execution_count": null,
      "id": "d917bec4",
      "metadata": {
        "id": "d917bec4"
      },
      "outputs": [],
      "source": [
        "import numpy as np\n",
        "import pandas as pd\n",
        "import matplotlib.pyplot as plt\n",
        "import matplotlib.dates as mdates\n",
        "from PIL import Image\n",
        "import pytesseract\n",
        "from datetime import datetime\n",
        "from scipy.ndimage import sobel, generic_filter\n",
        "from google.colab import files\n",
        "import io, requests\n"
      ]
    },
    {
      "cell_type": "code",
      "execution_count": null,
      "id": "664dfaa1",
      "metadata": {
        "id": "664dfaa1"
      },
      "outputs": [],
      "source": [
        "# 📤 Upload solar magnetogram\n",
        "uploaded = files.upload()\n",
        "image_path = next(iter(uploaded))\n",
        "img = Image.open(image_path).convert('L')\n",
        "img_array = np.array(img)\n"
      ]
    },
    {
      "cell_type": "code",
      "execution_count": null,
      "id": "9ea2dca5",
      "metadata": {
        "id": "9ea2dca5"
      },
      "outputs": [],
      "source": [
        "# 🧠 Extract date from filename → OCR → manual\n",
        "try:\n",
        "    base = image_path.split('/')[-1]\n",
        "    date_str = base[5:11]  # e.g., '250328'\n",
        "    year = int('20' + date_str[:2])\n",
        "    month = int(date_str[2:4])\n",
        "    day = int(date_str[4:6])\n",
        "    image_date = datetime(year, month, day)\n",
        "    print(f\"✅ Date from filename: {image_date.date()}\")\n",
        "except:\n",
        "    try:\n",
        "        text = pytesseract.image_to_string(img)\n",
        "        date_parts = [int(p) for p in text.split()[0].split('-')]\n",
        "        image_date = datetime(*date_parts)\n",
        "        print(f\"✅ Date from OCR: {image_date.date()}\")\n",
        "    except:\n",
        "        manual = input(\"❗ Enter image date (YYYY-MM-DD): \")\n",
        "        image_date = datetime.strptime(manual.strip(), \"%Y-%m-%d\")\n",
        "        print(f\"✅ Using manual date: {image_date.date()}\")\n"
      ]
    },
    {
      "cell_type": "code",
      "execution_count": null,
      "id": "e66e0612",
      "metadata": {
        "id": "e66e0612"
      },
      "outputs": [],
      "source": [
        "# 📈 NOAA Observed Solar Cycle (API → fallback CSV)\n",
        "obs_url = \"https://services.swpc.noaa.gov/json/solar-cycle/observed-solar-cycle-indices.json\"\n",
        "try:\n",
        "    r = requests.get(obs_url)\n",
        "    r.raise_for_status()\n",
        "    data = r.json()\n",
        "    df = pd.DataFrame(data)\n",
        "    df['date'] = pd.to_datetime(df['time-tag'], errors='coerce')\n",
        "    df = df[['date', 'ssn']].dropna()\n",
        "    print(f\"✅ NOAA API loaded ({len(df)} records)\")\n",
        "except:\n",
        "    print(\"⚠️ NOAA API failed. Upload fallback CSV (columns: date, ssn)\")\n",
        "    uploaded_csv = files.upload()\n",
        "    csv_name = next(iter(uploaded_csv))\n",
        "    df = pd.read_csv(csv_name)\n",
        "    df['date'] = pd.to_datetime(df['date'])\n"
      ]
    },
    {
      "cell_type": "code",
      "execution_count": null,
      "id": "1dfdc983",
      "metadata": {
        "id": "1dfdc983"
      },
      "outputs": [],
      "source": [
        "# 📊 NOAA Sunspot Timeline\n",
        "fig, ax = plt.subplots(figsize=(10, 4))\n",
        "ax.plot(df['date'], df['ssn'], label='Smoothed Sunspot Number')\n",
        "ax.axvline(image_date, color='red', linestyle='--', label=f'Image Date: {image_date.date()}')\n",
        "ax.set_title('NOAA Solar Cycle Alignment')\n",
        "ax.set_ylabel('Sunspot Number')\n",
        "ax.legend()\n",
        "ax.xaxis.set_major_formatter(mdates.DateFormatter('%Y-%m'))\n",
        "plt.grid(True)\n",
        "plt.tight_layout()\n",
        "plt.show()\n"
      ]
    },
    {
      "cell_type": "code",
      "execution_count": null,
      "id": "5b0b6f8d",
      "metadata": {
        "id": "5b0b6f8d"
      },
      "outputs": [],
      "source": [
        "# 🔬 Enhanced Entropy Extraction\n",
        "h, w = img_array.shape\n",
        "cx, cy = w // 2, h // 2\n",
        "radius = min(cx, cy) - 10\n",
        "y, x = np.ogrid[:h, :w]\n",
        "mask = (x - cx)**2 + (y - cy)**2 <= radius**2\n",
        "\n",
        "gx = sobel(img_array, axis=1)\n",
        "gy = sobel(img_array, axis=0)\n",
        "grad = np.hypot(gx, gy)\n",
        "var = generic_filter(img_array, np.var, size=5)\n",
        "\n",
        "grad_n = (grad - grad.min()) / (np.ptp(grad) + 1e-8)\n",
        "var_n = (var - var.min()) / (np.ptp(var) + 1e-8)\n",
        "entropy_map = np.zeros_like(img_array, dtype=float)\n",
        "entropy_map[mask] = ((grad_n + var_n) / 2.0)[mask]\n",
        "\n",
        "# Visualize\n",
        "plt.figure(figsize=(6,6))\n",
        "plt.imshow(entropy_map, cmap='inferno')\n",
        "plt.title(f'Entropy Map ({image_date.date()})')\n",
        "plt.axis('off')\n",
        "plt.colorbar()\n",
        "plt.show()\n"
      ]
    },
    {
      "cell_type": "code",
      "execution_count": null,
      "id": "c0615a74",
      "metadata": {
        "id": "c0615a74"
      },
      "outputs": [],
      "source": [
        "# 🧬 DLSFH Projection + Report\n",
        "angles = np.linspace(0, 2*np.pi, 21)[:-1]\n",
        "radii = [radius * 0.4, radius * 0.8]\n",
        "vec = []\n",
        "\n",
        "for r in radii:\n",
        "    for theta in angles[:10]:\n",
        "        x_pt = int(cx + r * np.cos(theta))\n",
        "        y_pt = int(cy + r * np.sin(theta))\n",
        "        vec.append(entropy_map[y_pt, x_pt])\n",
        "\n",
        "vec = np.array(vec)\n",
        "σ_c = 0.07\n",
        "collapsed = np.sum(vec >= σ_c)\n",
        "\n",
        "print(f\"=== DLSFH Entropy Report: {image_date.date()} ===\")\n",
        "print(f\"Mean Entropy: {vec.mean():.4f} | Std Dev: {vec.std():.4f}\")\n",
        "print(f\"Collapsed Nodes (≥ {σ_c}): {collapsed} / 20\")\n",
        "print(f\"Inner Mean: {vec[:10].mean():.4f} | Outer Mean: {vec[10:].mean():.4f}\")\n",
        "print(f\"Ring Divergence (Outer - Inner): {(vec[10:].mean() - vec[:10].mean()):.4f}\")\n",
        "if collapsed > 10:\n",
        "    print('⚠️ Possible surface flux instability or decoherence.')\n"
      ]
    }
  ],
  "metadata": {
    "colab": {
      "provenance": [],
      "include_colab_link": true
    }
  },
  "nbformat": 4,
  "nbformat_minor": 5
}