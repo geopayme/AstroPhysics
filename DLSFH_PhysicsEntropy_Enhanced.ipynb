{
  "cells": [
    {
      "cell_type": "markdown",
      "metadata": {
        "id": "view-in-github",
        "colab_type": "text"
      },
      "source": [
        "<a href=\"https://colab.research.google.com/github/geopayme/AstroPhysics/blob/main/DLSFH_PhysicsEntropy_Enhanced.ipynb\" target=\"_parent\"><img src=\"https://colab.research.google.com/assets/colab-badge.svg\" alt=\"Open In Colab\"/></a>"
      ]
    },
    {
      "cell_type": "markdown",
      "id": "a4f2cdd4",
      "metadata": {
        "id": "a4f2cdd4"
      },
      "source": [
        "# 🌞 DLSFH Physics-Enhanced Entropy Analysis\n",
        "This notebook upgrades the entropy analysis pipeline to extract real physics:\n",
        "- Uses Sobel filters + local variance for structure-sensitive entropy\n",
        "- Computes DLSFH 20-node vectors with higher dynamic range\n",
        "- Adds inner vs outer ring divergence metrics\n",
        "- Highlights nodes with structural asymmetry or coherence risk\n"
      ]
    },
    {
      "cell_type": "code",
      "execution_count": 1,
      "id": "b492da55",
      "metadata": {
        "colab": {
          "base_uri": "https://localhost:8080/",
          "height": 90
        },
        "id": "b492da55",
        "outputId": "dc1163ec-a165-49be-a3f9-eb32ed764327"
      },
      "outputs": [
        {
          "output_type": "display_data",
          "data": {
            "text/plain": [
              "<IPython.core.display.HTML object>"
            ],
            "text/html": [
              "\n",
              "     <input type=\"file\" id=\"files-046274c7-2b1f-41d2-8eb6-75691b711cd1\" name=\"files[]\" multiple disabled\n",
              "        style=\"border:none\" />\n",
              "     <output id=\"result-046274c7-2b1f-41d2-8eb6-75691b711cd1\">\n",
              "      Upload widget is only available when the cell has been executed in the\n",
              "      current browser session. Please rerun this cell to enable.\n",
              "      </output>\n",
              "      <script>// Copyright 2017 Google LLC\n",
              "//\n",
              "// Licensed under the Apache License, Version 2.0 (the \"License\");\n",
              "// you may not use this file except in compliance with the License.\n",
              "// You may obtain a copy of the License at\n",
              "//\n",
              "//      http://www.apache.org/licenses/LICENSE-2.0\n",
              "//\n",
              "// Unless required by applicable law or agreed to in writing, software\n",
              "// distributed under the License is distributed on an \"AS IS\" BASIS,\n",
              "// WITHOUT WARRANTIES OR CONDITIONS OF ANY KIND, either express or implied.\n",
              "// See the License for the specific language governing permissions and\n",
              "// limitations under the License.\n",
              "\n",
              "/**\n",
              " * @fileoverview Helpers for google.colab Python module.\n",
              " */\n",
              "(function(scope) {\n",
              "function span(text, styleAttributes = {}) {\n",
              "  const element = document.createElement('span');\n",
              "  element.textContent = text;\n",
              "  for (const key of Object.keys(styleAttributes)) {\n",
              "    element.style[key] = styleAttributes[key];\n",
              "  }\n",
              "  return element;\n",
              "}\n",
              "\n",
              "// Max number of bytes which will be uploaded at a time.\n",
              "const MAX_PAYLOAD_SIZE = 100 * 1024;\n",
              "\n",
              "function _uploadFiles(inputId, outputId) {\n",
              "  const steps = uploadFilesStep(inputId, outputId);\n",
              "  const outputElement = document.getElementById(outputId);\n",
              "  // Cache steps on the outputElement to make it available for the next call\n",
              "  // to uploadFilesContinue from Python.\n",
              "  outputElement.steps = steps;\n",
              "\n",
              "  return _uploadFilesContinue(outputId);\n",
              "}\n",
              "\n",
              "// This is roughly an async generator (not supported in the browser yet),\n",
              "// where there are multiple asynchronous steps and the Python side is going\n",
              "// to poll for completion of each step.\n",
              "// This uses a Promise to block the python side on completion of each step,\n",
              "// then passes the result of the previous step as the input to the next step.\n",
              "function _uploadFilesContinue(outputId) {\n",
              "  const outputElement = document.getElementById(outputId);\n",
              "  const steps = outputElement.steps;\n",
              "\n",
              "  const next = steps.next(outputElement.lastPromiseValue);\n",
              "  return Promise.resolve(next.value.promise).then((value) => {\n",
              "    // Cache the last promise value to make it available to the next\n",
              "    // step of the generator.\n",
              "    outputElement.lastPromiseValue = value;\n",
              "    return next.value.response;\n",
              "  });\n",
              "}\n",
              "\n",
              "/**\n",
              " * Generator function which is called between each async step of the upload\n",
              " * process.\n",
              " * @param {string} inputId Element ID of the input file picker element.\n",
              " * @param {string} outputId Element ID of the output display.\n",
              " * @return {!Iterable<!Object>} Iterable of next steps.\n",
              " */\n",
              "function* uploadFilesStep(inputId, outputId) {\n",
              "  const inputElement = document.getElementById(inputId);\n",
              "  inputElement.disabled = false;\n",
              "\n",
              "  const outputElement = document.getElementById(outputId);\n",
              "  outputElement.innerHTML = '';\n",
              "\n",
              "  const pickedPromise = new Promise((resolve) => {\n",
              "    inputElement.addEventListener('change', (e) => {\n",
              "      resolve(e.target.files);\n",
              "    });\n",
              "  });\n",
              "\n",
              "  const cancel = document.createElement('button');\n",
              "  inputElement.parentElement.appendChild(cancel);\n",
              "  cancel.textContent = 'Cancel upload';\n",
              "  const cancelPromise = new Promise((resolve) => {\n",
              "    cancel.onclick = () => {\n",
              "      resolve(null);\n",
              "    };\n",
              "  });\n",
              "\n",
              "  // Wait for the user to pick the files.\n",
              "  const files = yield {\n",
              "    promise: Promise.race([pickedPromise, cancelPromise]),\n",
              "    response: {\n",
              "      action: 'starting',\n",
              "    }\n",
              "  };\n",
              "\n",
              "  cancel.remove();\n",
              "\n",
              "  // Disable the input element since further picks are not allowed.\n",
              "  inputElement.disabled = true;\n",
              "\n",
              "  if (!files) {\n",
              "    return {\n",
              "      response: {\n",
              "        action: 'complete',\n",
              "      }\n",
              "    };\n",
              "  }\n",
              "\n",
              "  for (const file of files) {\n",
              "    const li = document.createElement('li');\n",
              "    li.append(span(file.name, {fontWeight: 'bold'}));\n",
              "    li.append(span(\n",
              "        `(${file.type || 'n/a'}) - ${file.size} bytes, ` +\n",
              "        `last modified: ${\n",
              "            file.lastModifiedDate ? file.lastModifiedDate.toLocaleDateString() :\n",
              "                                    'n/a'} - `));\n",
              "    const percent = span('0% done');\n",
              "    li.appendChild(percent);\n",
              "\n",
              "    outputElement.appendChild(li);\n",
              "\n",
              "    const fileDataPromise = new Promise((resolve) => {\n",
              "      const reader = new FileReader();\n",
              "      reader.onload = (e) => {\n",
              "        resolve(e.target.result);\n",
              "      };\n",
              "      reader.readAsArrayBuffer(file);\n",
              "    });\n",
              "    // Wait for the data to be ready.\n",
              "    let fileData = yield {\n",
              "      promise: fileDataPromise,\n",
              "      response: {\n",
              "        action: 'continue',\n",
              "      }\n",
              "    };\n",
              "\n",
              "    // Use a chunked sending to avoid message size limits. See b/62115660.\n",
              "    let position = 0;\n",
              "    do {\n",
              "      const length = Math.min(fileData.byteLength - position, MAX_PAYLOAD_SIZE);\n",
              "      const chunk = new Uint8Array(fileData, position, length);\n",
              "      position += length;\n",
              "\n",
              "      const base64 = btoa(String.fromCharCode.apply(null, chunk));\n",
              "      yield {\n",
              "        response: {\n",
              "          action: 'append',\n",
              "          file: file.name,\n",
              "          data: base64,\n",
              "        },\n",
              "      };\n",
              "\n",
              "      let percentDone = fileData.byteLength === 0 ?\n",
              "          100 :\n",
              "          Math.round((position / fileData.byteLength) * 100);\n",
              "      percent.textContent = `${percentDone}% done`;\n",
              "\n",
              "    } while (position < fileData.byteLength);\n",
              "  }\n",
              "\n",
              "  // All done.\n",
              "  yield {\n",
              "    response: {\n",
              "      action: 'complete',\n",
              "    }\n",
              "  };\n",
              "}\n",
              "\n",
              "scope.google = scope.google || {};\n",
              "scope.google.colab = scope.google.colab || {};\n",
              "scope.google.colab._files = {\n",
              "  _uploadFiles,\n",
              "  _uploadFilesContinue,\n",
              "};\n",
              "})(self);\n",
              "</script> "
            ]
          },
          "metadata": {}
        },
        {
          "output_type": "stream",
          "name": "stdout",
          "text": [
            "Saving bbzqa250328t0004_dim-860.jpg to bbzqa250328t0004_dim-860.jpg\n",
            "🖼️ Image: bbzqa250328t0004_dim-860.jpg\n"
          ]
        }
      ],
      "source": [
        "# 📤 Upload solar magnetogram image\n",
        "from google.colab import files\n",
        "uploaded = files.upload()\n",
        "image_path = next(iter(uploaded))\n",
        "print(f'🖼️ Image: {image_path}')"
      ]
    },
    {
      "cell_type": "code",
      "execution_count": 2,
      "id": "c8955c14",
      "metadata": {
        "id": "c8955c14"
      },
      "outputs": [],
      "source": [
        "import numpy as np\n",
        "import matplotlib.pyplot as plt\n",
        "from PIL import Image\n",
        "from scipy.ndimage import sobel, generic_filter\n",
        "import os\n",
        "\n",
        "# Load and grayscale\n",
        "img = Image.open(image_path).convert('L')\n",
        "img_array = np.array(img)\n",
        "h, w = img_array.shape\n",
        "cx, cy = w // 2, h // 2\n",
        "radius = min(cx, cy) - 10"
      ]
    },
    {
      "cell_type": "code",
      "execution_count": 3,
      "id": "9d3f18da",
      "metadata": {
        "id": "9d3f18da"
      },
      "outputs": [],
      "source": [
        "y_indices, x_indices = np.ogrid[:h, :w]\n",
        "mask = (x_indices - cx)**2 + (y_indices - cy)**2 <= radius**2\n"
      ]
    },
    {
      "cell_type": "code",
      "execution_count": 5,
      "id": "e7593b7c",
      "metadata": {
        "id": "e7593b7c"
      },
      "outputs": [],
      "source": [
        "# 📐 Sobel + local variance\n",
        "gradient_x = sobel(img_array, axis=1)\n",
        "gradient_y = sobel(img_array, axis=0)\n",
        "magnitude = np.hypot(gradient_x, gradient_y)\n",
        "local_var = generic_filter(img_array.astype(float), np.var, size=11)\n",
        "\n",
        "# Combine normalized features\n",
        "grad_norm = (magnitude - np.min(magnitude)) / (np.ptp(magnitude) + 1e-8)\n",
        "var_norm = (local_var - np.min(local_var)) / (np.ptp(local_var) + 1e-8)\n",
        "enhanced_entropy = (grad_norm + var_norm) / 2.0\n",
        "enhanced_entropy[~mask] = 0"
      ]
    },
    {
      "cell_type": "code",
      "execution_count": null,
      "id": "9944f9a5",
      "metadata": {
        "id": "9944f9a5"
      },
      "outputs": [],
      "source": [
        "# 🧭 Show enhanced entropy map\n",
        "plt.imshow(enhanced_entropy, cmap='inferno')\n",
        "plt.title('Enhanced Entropy Map')\n",
        "plt.axis('off')\n",
        "plt.colorbar()\n",
        "plt.show()"
      ]
    },
    {
      "cell_type": "code",
      "execution_count": null,
      "id": "ddb1efb4",
      "metadata": {
        "id": "ddb1efb4"
      },
      "outputs": [],
      "source": [
        "# 📍 DLSFH 20-node vector extraction\n",
        "angles = np.linspace(0, 2 * np.pi, 21)\n",
        "radii = [0.3, 0.65]\n",
        "zones = [(int(cx + r * radius * np.cos((angles[i]+angles[i+1])/2)),\n",
        "          int(cy + r * radius * np.sin((angles[i]+angles[i+1])/2)))\n",
        "         for r in radii for i in range(10)]\n",
        "kernel = 20\n",
        "vector = np.array([\n",
        "    np.mean(enhanced_entropy[max(0, y-kernel):min(h, y+kernel), max(0, x-kernel):min(w, x+kernel)])\n",
        "    for x, y in zones\n",
        "])\n",
        "inner = vector[:10]\n",
        "outer = vector[10:]\n",
        "divergence = outer - inner\n",
        "threshold = 0.07"
      ]
    },
    {
      "cell_type": "code",
      "execution_count": null,
      "id": "2bfb1f4e",
      "metadata": {
        "id": "2bfb1f4e"
      },
      "outputs": [],
      "source": [
        "# 📊 Plot 20-node vector\n",
        "plt.plot(vector, 'o-k')\n",
        "plt.axhline(threshold, color='gray', linestyle='--', label='σ_c')\n",
        "plt.title('DLSFH 20-Node Enhanced Entropy Vector')\n",
        "plt.xlabel('Node Index')\n",
        "plt.ylabel('Entropy')\n",
        "plt.legend()\n",
        "plt.grid(True)\n",
        "plt.show()"
      ]
    },
    {
      "cell_type": "code",
      "execution_count": null,
      "id": "4f006e07",
      "metadata": {
        "id": "4f006e07"
      },
      "outputs": [],
      "source": [
        "# 🧠 Physics-Based Coherence Analysis\n",
        "print('=== DLSFH Physics Entropy Summary ===')\n",
        "print(f'Mean Entropy: {np.mean(vector):.4f} | Std Dev: {np.std(vector):.4f}')\n",
        "print(f'Collapsed Nodes (≥ {threshold:.2f}): {np.sum(vector >= threshold)} / 20')\n",
        "print(f'Outer Ring Mean: {np.mean(outer):.4f} | Inner Ring Mean: {np.mean(inner):.4f}')\n",
        "print(f'Ring Entropy Divergence (Outer - Inner): {np.mean(divergence):.4f}')\n",
        "\n",
        "if np.sum(vector >= threshold) == 0:\n",
        "    print('✅ System coherent. Low activity or early-cycle equilibrium.')\n",
        "elif np.mean(outer) > np.mean(inner):\n",
        "    print('⚠️ Outer ring decoherence → Surface flux destabilization likely.')\n",
        "elif np.mean(inner) > np.mean(outer):\n",
        "    print('⚠️ Inner ring decoherence → Core polarity shift possible.')\n",
        "if np.std(vector) > 0.01:\n",
        "    print('🔁 High entropy variance → Possible field asymmetry or flux emergence.')"
      ]
    }
  ],
  "metadata": {
    "colab": {
      "provenance": [],
      "include_colab_link": true
    },
    "language_info": {
      "name": "python"
    },
    "kernelspec": {
      "name": "python3",
      "display_name": "Python 3"
    }
  },
  "nbformat": 4,
  "nbformat_minor": 5
}