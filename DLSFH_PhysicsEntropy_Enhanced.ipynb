{
  "cells": [
    {
      "cell_type": "markdown",
      "metadata": {
        "id": "view-in-github",
        "colab_type": "text"
      },
      "source": [
        "<a href=\"https://colab.research.google.com/github/geopayme/AstroPhysics/blob/main/DLSFH_PhysicsEntropy_Enhanced.ipynb\" target=\"_parent\"><img src=\"https://colab.research.google.com/assets/colab-badge.svg\" alt=\"Open In Colab\"/></a>"
      ]
    },
    {
      "cell_type": "markdown",
      "id": "a4f2cdd4",
      "metadata": {
        "id": "a4f2cdd4"
      },
      "source": [
        "# 🌞 DLSFH Physics-Enhanced Entropy Analysis\n",
        "This notebook upgrades the entropy analysis pipeline to extract real physics:\n",
        "- Uses Sobel filters + local variance for structure-sensitive entropy\n",
        "- Computes DLSFH 20-node vectors with higher dynamic range\n",
        "- Adds inner vs outer ring divergence metrics\n",
        "- Highlights nodes with structural asymmetry or coherence risk\n"
      ]
    },
    {
      "cell_type": "code",
      "execution_count": null,
      "id": "b492da55",
      "metadata": {
        "id": "b492da55"
      },
      "outputs": [],
      "source": [
        "# 📤 Upload solar magnetogram image\n",
        "from google.colab import files\n",
        "uploaded = files.upload()\n",
        "image_path = next(iter(uploaded))\n",
        "print(f'🖼️ Image: {image_path}')"
      ]
    },
    {
      "cell_type": "code",
      "execution_count": null,
      "id": "c8955c14",
      "metadata": {
        "id": "c8955c14"
      },
      "outputs": [],
      "source": [
        "import numpy as np\n",
        "import matplotlib.pyplot as plt\n",
        "from PIL import Image\n",
        "from scipy.ndimage import sobel, generic_filter\n",
        "import os\n",
        "\n",
        "# Load and grayscale\n",
        "img = Image.open(image_path).convert('L')\n",
        "img_array = np.array(img)\n",
        "h, w = img_array.shape\n",
        "cx, cy = w // 2, h // 2\n",
        "radius = min(cx, cy) - 10"
      ]
    },
    {
      "cell_type": "code",
      "execution_count": null,
      "id": "9d3f18da",
      "metadata": {
        "id": "9d3f18da"
      },
      "outputs": [],
      "source": [
        "y_indices, x_indices = np.ogrid[:h, :w]\n",
        "mask = (x_indices - cx)**2 + (y_indices - cy)**2 <= radius**2\n"
      ]
    },
    {
      "cell_type": "code",
      "execution_count": null,
      "id": "e7593b7c",
      "metadata": {
        "id": "e7593b7c"
      },
      "outputs": [],
      "source": [
        "# 📐 Sobel + local variance\n",
        "gradient_x = sobel(img_array, axis=1)\n",
        "gradient_y = sobel(img_array, axis=0)\n",
        "magnitude = np.hypot(gradient_x, gradient_y)\n",
        "local_var = generic_filter(img_array.astype(float), np.var, size=11)\n",
        "\n",
        "# Combine normalized features\n",
        "grad_norm = (magnitude - magnitude.min()) / (magnitude.ptp() + 1e-8)\n",
        "var_norm = (local_var - local_var.min()) / (local_var.ptp() + 1e-8)\n",
        "enhanced_entropy = (grad_norm + var_norm) / 2.0\n",
        "enhanced_entropy[~mask] = 0"
      ]
    },
    {
      "cell_type": "code",
      "execution_count": null,
      "id": "9944f9a5",
      "metadata": {
        "id": "9944f9a5"
      },
      "outputs": [],
      "source": [
        "# 🧭 Show enhanced entropy map\n",
        "plt.imshow(enhanced_entropy, cmap='inferno')\n",
        "plt.title('Enhanced Entropy Map')\n",
        "plt.axis('off')\n",
        "plt.colorbar()\n",
        "plt.show()"
      ]
    },
    {
      "cell_type": "code",
      "execution_count": null,
      "id": "ddb1efb4",
      "metadata": {
        "id": "ddb1efb4"
      },
      "outputs": [],
      "source": [
        "# 📍 DLSFH 20-node vector extraction\n",
        "angles = np.linspace(0, 2 * np.pi, 21)\n",
        "radii = [0.3, 0.65]\n",
        "zones = [(int(cx + r * radius * np.cos((angles[i]+angles[i+1])/2)),\n",
        "          int(cy + r * radius * np.sin((angles[i]+angles[i+1])/2)))\n",
        "         for r in radii for i in range(10)]\n",
        "kernel = 20\n",
        "vector = np.array([\n",
        "    np.mean(enhanced_entropy[max(0, y-kernel):min(h, y+kernel), max(0, x-kernel):min(w, x+kernel)])\n",
        "    for x, y in zones\n",
        "])\n",
        "inner = vector[:10]\n",
        "outer = vector[10:]\n",
        "divergence = outer - inner\n",
        "threshold = 0.07"
      ]
    },
    {
      "cell_type": "code",
      "execution_count": null,
      "id": "2bfb1f4e",
      "metadata": {
        "id": "2bfb1f4e"
      },
      "outputs": [],
      "source": [
        "# 📊 Plot 20-node vector\n",
        "plt.plot(vector, 'o-k')\n",
        "plt.axhline(threshold, color='gray', linestyle='--', label='σ_c')\n",
        "plt.title('DLSFH 20-Node Enhanced Entropy Vector')\n",
        "plt.xlabel('Node Index')\n",
        "plt.ylabel('Entropy')\n",
        "plt.legend()\n",
        "plt.grid(True)\n",
        "plt.show()"
      ]
    },
    {
      "cell_type": "code",
      "execution_count": null,
      "id": "4f006e07",
      "metadata": {
        "id": "4f006e07"
      },
      "outputs": [],
      "source": [
        "# 🧠 Physics-Based Coherence Analysis\n",
        "print('=== DLSFH Physics Entropy Summary ===')\n",
        "print(f'Mean Entropy: {np.mean(vector):.4f} | Std Dev: {np.std(vector):.4f}')\n",
        "print(f'Collapsed Nodes (≥ {threshold:.2f}): {np.sum(vector >= threshold)} / 20')\n",
        "print(f'Outer Ring Mean: {np.mean(outer):.4f} | Inner Ring Mean: {np.mean(inner):.4f}')\n",
        "print(f'Ring Entropy Divergence (Outer - Inner): {np.mean(divergence):.4f}')\n",
        "\n",
        "if np.sum(vector >= threshold) == 0:\n",
        "    print('✅ System coherent. Low activity or early-cycle equilibrium.')\n",
        "elif np.mean(outer) > np.mean(inner):\n",
        "    print('⚠️ Outer ring decoherence → Surface flux destabilization likely.')\n",
        "elif np.mean(inner) > np.mean(outer):\n",
        "    print('⚠️ Inner ring decoherence → Core polarity shift possible.')\n",
        "if np.std(vector) > 0.01:\n",
        "    print('🔁 High entropy variance → Possible field asymmetry or flux emergence.')"
      ]
    }
  ],
  "metadata": {
    "colab": {
      "provenance": [],
      "include_colab_link": true
    }
  },
  "nbformat": 4,
  "nbformat_minor": 5
}