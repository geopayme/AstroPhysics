{
  "cells": [
    {
      "cell_type": "markdown",
      "metadata": {
        "id": "view-in-github",
        "colab_type": "text"
      },
      "source": [
        "<a href=\"https://colab.research.google.com/github/geopayme/AstroPhysics/blob/main/DLSFH_PhysicsEntropy_AdvancedFinal_FINAL.ipynb\" target=\"_parent\"><img src=\"https://colab.research.google.com/assets/colab-badge.svg\" alt=\"Open In Colab\"/></a>"
      ]
    },
    {
      "cell_type": "code",
      "execution_count": 12,
      "id": "cb9da68c",
      "metadata": {
        "colab": {
          "base_uri": "https://localhost:8080/"
        },
        "id": "cb9da68c",
        "outputId": "7deed2df-f657-4f1d-ec2b-c342ea57e347"
      },
      "outputs": [
        {
          "output_type": "stream",
          "name": "stdout",
          "text": [
            "Reading package lists... Done\n",
            "Building dependency tree... Done\n",
            "Reading state information... Done\n",
            "tesseract-ocr is already the newest version (4.1.1-2.1build1).\n",
            "0 upgraded, 0 newly installed, 0 to remove and 29 not upgraded.\n"
          ]
        }
      ],
      "source": [
        "# 🛠️ Ensure Tesseract OCR is installed\n",
        "!apt-get -y install tesseract-ocr\n",
        "!pip install -q pytesseract\n"
      ]
    },
    {
      "cell_type": "markdown",
      "id": "0754a955",
      "metadata": {
        "id": "0754a955"
      },
      "source": [
        "# 🌀 DLSFH Physics Entropy Advanced Final\n",
        "Advanced solar entropy mapping, DLSFH projection, and SGCV diagnostics."
      ]
    },
    {
      "cell_type": "markdown",
      "id": "c822da7a",
      "metadata": {
        "id": "c822da7a"
      },
      "source": [
        "## 📤 Upload Magnetogram Image"
      ]
    },
    {
      "cell_type": "code",
      "execution_count": 13,
      "id": "8b648a88",
      "metadata": {
        "colab": {
          "base_uri": "https://localhost:8080/",
          "height": 90
        },
        "id": "8b648a88",
        "outputId": "e10fb338-57b6-411c-9412-f1c6cafadda1"
      },
      "outputs": [
        {
          "output_type": "display_data",
          "data": {
            "text/plain": [
              "<IPython.core.display.HTML object>"
            ],
            "text/html": [
              "\n",
              "     <input type=\"file\" id=\"files-3ce5ef61-48c0-4ae7-8aba-62e10aac7fbe\" name=\"files[]\" multiple disabled\n",
              "        style=\"border:none\" />\n",
              "     <output id=\"result-3ce5ef61-48c0-4ae7-8aba-62e10aac7fbe\">\n",
              "      Upload widget is only available when the cell has been executed in the\n",
              "      current browser session. Please rerun this cell to enable.\n",
              "      </output>\n",
              "      <script>// Copyright 2017 Google LLC\n",
              "//\n",
              "// Licensed under the Apache License, Version 2.0 (the \"License\");\n",
              "// you may not use this file except in compliance with the License.\n",
              "// You may obtain a copy of the License at\n",
              "//\n",
              "//      http://www.apache.org/licenses/LICENSE-2.0\n",
              "//\n",
              "// Unless required by applicable law or agreed to in writing, software\n",
              "// distributed under the License is distributed on an \"AS IS\" BASIS,\n",
              "// WITHOUT WARRANTIES OR CONDITIONS OF ANY KIND, either express or implied.\n",
              "// See the License for the specific language governing permissions and\n",
              "// limitations under the License.\n",
              "\n",
              "/**\n",
              " * @fileoverview Helpers for google.colab Python module.\n",
              " */\n",
              "(function(scope) {\n",
              "function span(text, styleAttributes = {}) {\n",
              "  const element = document.createElement('span');\n",
              "  element.textContent = text;\n",
              "  for (const key of Object.keys(styleAttributes)) {\n",
              "    element.style[key] = styleAttributes[key];\n",
              "  }\n",
              "  return element;\n",
              "}\n",
              "\n",
              "// Max number of bytes which will be uploaded at a time.\n",
              "const MAX_PAYLOAD_SIZE = 100 * 1024;\n",
              "\n",
              "function _uploadFiles(inputId, outputId) {\n",
              "  const steps = uploadFilesStep(inputId, outputId);\n",
              "  const outputElement = document.getElementById(outputId);\n",
              "  // Cache steps on the outputElement to make it available for the next call\n",
              "  // to uploadFilesContinue from Python.\n",
              "  outputElement.steps = steps;\n",
              "\n",
              "  return _uploadFilesContinue(outputId);\n",
              "}\n",
              "\n",
              "// This is roughly an async generator (not supported in the browser yet),\n",
              "// where there are multiple asynchronous steps and the Python side is going\n",
              "// to poll for completion of each step.\n",
              "// This uses a Promise to block the python side on completion of each step,\n",
              "// then passes the result of the previous step as the input to the next step.\n",
              "function _uploadFilesContinue(outputId) {\n",
              "  const outputElement = document.getElementById(outputId);\n",
              "  const steps = outputElement.steps;\n",
              "\n",
              "  const next = steps.next(outputElement.lastPromiseValue);\n",
              "  return Promise.resolve(next.value.promise).then((value) => {\n",
              "    // Cache the last promise value to make it available to the next\n",
              "    // step of the generator.\n",
              "    outputElement.lastPromiseValue = value;\n",
              "    return next.value.response;\n",
              "  });\n",
              "}\n",
              "\n",
              "/**\n",
              " * Generator function which is called between each async step of the upload\n",
              " * process.\n",
              " * @param {string} inputId Element ID of the input file picker element.\n",
              " * @param {string} outputId Element ID of the output display.\n",
              " * @return {!Iterable<!Object>} Iterable of next steps.\n",
              " */\n",
              "function* uploadFilesStep(inputId, outputId) {\n",
              "  const inputElement = document.getElementById(inputId);\n",
              "  inputElement.disabled = false;\n",
              "\n",
              "  const outputElement = document.getElementById(outputId);\n",
              "  outputElement.innerHTML = '';\n",
              "\n",
              "  const pickedPromise = new Promise((resolve) => {\n",
              "    inputElement.addEventListener('change', (e) => {\n",
              "      resolve(e.target.files);\n",
              "    });\n",
              "  });\n",
              "\n",
              "  const cancel = document.createElement('button');\n",
              "  inputElement.parentElement.appendChild(cancel);\n",
              "  cancel.textContent = 'Cancel upload';\n",
              "  const cancelPromise = new Promise((resolve) => {\n",
              "    cancel.onclick = () => {\n",
              "      resolve(null);\n",
              "    };\n",
              "  });\n",
              "\n",
              "  // Wait for the user to pick the files.\n",
              "  const files = yield {\n",
              "    promise: Promise.race([pickedPromise, cancelPromise]),\n",
              "    response: {\n",
              "      action: 'starting',\n",
              "    }\n",
              "  };\n",
              "\n",
              "  cancel.remove();\n",
              "\n",
              "  // Disable the input element since further picks are not allowed.\n",
              "  inputElement.disabled = true;\n",
              "\n",
              "  if (!files) {\n",
              "    return {\n",
              "      response: {\n",
              "        action: 'complete',\n",
              "      }\n",
              "    };\n",
              "  }\n",
              "\n",
              "  for (const file of files) {\n",
              "    const li = document.createElement('li');\n",
              "    li.append(span(file.name, {fontWeight: 'bold'}));\n",
              "    li.append(span(\n",
              "        `(${file.type || 'n/a'}) - ${file.size} bytes, ` +\n",
              "        `last modified: ${\n",
              "            file.lastModifiedDate ? file.lastModifiedDate.toLocaleDateString() :\n",
              "                                    'n/a'} - `));\n",
              "    const percent = span('0% done');\n",
              "    li.appendChild(percent);\n",
              "\n",
              "    outputElement.appendChild(li);\n",
              "\n",
              "    const fileDataPromise = new Promise((resolve) => {\n",
              "      const reader = new FileReader();\n",
              "      reader.onload = (e) => {\n",
              "        resolve(e.target.result);\n",
              "      };\n",
              "      reader.readAsArrayBuffer(file);\n",
              "    });\n",
              "    // Wait for the data to be ready.\n",
              "    let fileData = yield {\n",
              "      promise: fileDataPromise,\n",
              "      response: {\n",
              "        action: 'continue',\n",
              "      }\n",
              "    };\n",
              "\n",
              "    // Use a chunked sending to avoid message size limits. See b/62115660.\n",
              "    let position = 0;\n",
              "    do {\n",
              "      const length = Math.min(fileData.byteLength - position, MAX_PAYLOAD_SIZE);\n",
              "      const chunk = new Uint8Array(fileData, position, length);\n",
              "      position += length;\n",
              "\n",
              "      const base64 = btoa(String.fromCharCode.apply(null, chunk));\n",
              "      yield {\n",
              "        response: {\n",
              "          action: 'append',\n",
              "          file: file.name,\n",
              "          data: base64,\n",
              "        },\n",
              "      };\n",
              "\n",
              "      let percentDone = fileData.byteLength === 0 ?\n",
              "          100 :\n",
              "          Math.round((position / fileData.byteLength) * 100);\n",
              "      percent.textContent = `${percentDone}% done`;\n",
              "\n",
              "    } while (position < fileData.byteLength);\n",
              "  }\n",
              "\n",
              "  // All done.\n",
              "  yield {\n",
              "    response: {\n",
              "      action: 'complete',\n",
              "    }\n",
              "  };\n",
              "}\n",
              "\n",
              "scope.google = scope.google || {};\n",
              "scope.google.colab = scope.google.colab || {};\n",
              "scope.google.colab._files = {\n",
              "  _uploadFiles,\n",
              "  _uploadFilesContinue,\n",
              "};\n",
              "})(self);\n",
              "</script> "
            ]
          },
          "metadata": {}
        },
        {
          "output_type": "stream",
          "name": "stdout",
          "text": [
            "Saving bbzqa150802t0034_dim-860.jpg to bbzqa150802t0034_dim-860.jpg\n",
            "✅ Uploaded: bbzqa150802t0034_dim-860.jpg\n"
          ]
        }
      ],
      "source": [
        "from google.colab import files\n",
        "uploaded = files.upload()\n",
        "image_path = next(iter(uploaded))\n",
        "print(f\"✅ Uploaded: {image_path}\")\n"
      ]
    },
    {
      "cell_type": "markdown",
      "id": "f7bf3fed",
      "metadata": {
        "id": "f7bf3fed"
      },
      "source": [
        "## 📆 Extract Image Date (Filename or OCR Fallback)"
      ]
    },
    {
      "cell_type": "code",
      "execution_count": 15,
      "id": "a0675cfe",
      "metadata": {
        "colab": {
          "base_uri": "https://localhost:8080/"
        },
        "id": "a0675cfe",
        "outputId": "9b1199d3-3d3c-430c-d96e-73ff8cb0e4ce"
      },
      "outputs": [
        {
          "output_type": "stream",
          "name": "stdout",
          "text": [
            "🕒 Image Date: 2015-08-02 00:00:00\n"
          ]
        }
      ],
      "source": [
        "import re\n",
        "from datetime import datetime\n",
        "from PIL import Image\n",
        "import pytesseract\n",
        "\n",
        "def extract_date(image_path):\n",
        "    filename = image_path  # already a string like 'bbzqa250328t0004_dim-860.jpg'\n",
        "\n",
        "    # Try filename pattern: bbzqaYYMMDD\n",
        "    match = re.search(r'bbzqa(\\d{6})', filename)\n",
        "    if match:\n",
        "        yymmdd = match.group(1)\n",
        "        year = int('20' + yymmdd[:2])\n",
        "        month = int(yymmdd[2:4])\n",
        "        day = int(yymmdd[4:6])\n",
        "        try:\n",
        "            return datetime(year, month, day)\n",
        "        except:\n",
        "            pass  # fallback to OCR\n",
        "\n",
        "    # OCR fallback\n",
        "    try:\n",
        "        img = Image.open(image_path)\n",
        "        text = pytesseract.image_to_string(img)\n",
        "        print(\"🧠 OCR output:\", text[:100])  # Show partial result for debugging\n",
        "\n",
        "        date_match = re.search(r\"(\\\\d{4})[/-](\\\\d{1,2})[/-](\\\\d{1,2})\", text)\n",
        "        if date_match:\n",
        "            year, month, day = map(int, date_match.groups())\n",
        "            return datetime(year, month, day)\n",
        "    except Exception as e:\n",
        "        print(\"⚠️ OCR failed:\", e)\n",
        "\n",
        "    # Manual fallback\n",
        "    try:\n",
        "        manual = input(\"Enter image date (YYYY-MM-DD): \")\n",
        "        return datetime.strptime(manual.strip(), \"%Y-%m-%d\")\n",
        "    except:\n",
        "        return None\n",
        "\n",
        "image_date = extract_date(image_path)\n",
        "print(\"🕒 Image Date:\", image_date)\n"
      ]
    },
    {
      "cell_type": "markdown",
      "id": "2c325b73",
      "metadata": {
        "id": "2c325b73"
      },
      "source": [
        "## 🔍 Entropy Mapping with Edge + Variance Enhancements"
      ]
    },
    {
      "cell_type": "code",
      "execution_count": null,
      "id": "adeaa561",
      "metadata": {
        "id": "adeaa561"
      },
      "outputs": [],
      "source": [
        "import numpy as np\n",
        "from PIL import Image\n",
        "from scipy.ndimage import sobel, generic_filter\n",
        "import matplotlib.pyplot as plt\n",
        "\n",
        "# Load grayscale\n",
        "img = Image.open(image_path).convert('L')\n",
        "img_array = np.array(img)\n",
        "h, w = img_array.shape\n",
        "cx, cy = w // 2, h // 2\n",
        "radius = min(cx, cy) - 10\n",
        "y_idx, x_idx = np.ogrid[:h, :w]\n",
        "mask = (x_idx - cx)**2 + (y_idx - cy)**2 <= radius**2\n",
        "disk_pixels = img_array[mask]\n",
        "\n",
        "# Compute Sobel and variance maps\n",
        "sx = sobel(img_array, axis=1)\n",
        "sy = sobel(img_array, axis=0)\n",
        "grad_mag = np.hypot(sx, sy)\n",
        "local_var = generic_filter(img_array.astype(float), np.var, size=7)\n",
        "\n",
        "# Normalize and blend\n",
        "grad_norm = (grad_mag - grad_mag.min()) / (np.ptp(grad_mag) + 1e-8)\n",
        "var_norm = (local_var - local_var.min()) / (np.ptp(local_var) + 1e-8)\n",
        "enhanced_entropy = (grad_norm + var_norm) / 2.0\n",
        "entropy_map = np.zeros_like(img_array, dtype=float)\n",
        "entropy_map[mask] = enhanced_entropy[mask]\n",
        "\n",
        "# Plot\n",
        "plt.imshow(entropy_map, cmap='inferno')\n",
        "plt.title(\"Generated Entropy Map\")\n",
        "plt.axis('off')\n",
        "plt.colorbar()\n",
        "plt.show()\n"
      ]
    },
    {
      "cell_type": "markdown",
      "id": "193010f4",
      "metadata": {
        "id": "193010f4"
      },
      "source": [
        "## 🔵 Project Entropy to DLSFH 20-Node Core"
      ]
    },
    {
      "cell_type": "code",
      "execution_count": null,
      "id": "3536e151",
      "metadata": {
        "id": "3536e151"
      },
      "outputs": [],
      "source": [
        "# DLSFH nodes on solar disk\n",
        "node_coords = [(cx + radius*np.cos(2*np.pi*i/20)*0.75, cy + radius*np.sin(2*np.pi*i/20)*0.75) for i in range(20)]\n",
        "node_values = [entropy_map[int(y)][int(x)] for x, y in node_coords]\n",
        "entropy_vector = np.round(node_values, 4)\n",
        "print(\"Entropy Vector:\", entropy_vector)\n"
      ]
    },
    {
      "cell_type": "markdown",
      "id": "545cbc85",
      "metadata": {
        "id": "545cbc85"
      },
      "source": [
        "## 📍 Annotated Map with DLSFH Nodes"
      ]
    },
    {
      "cell_type": "code",
      "execution_count": null,
      "id": "25699e9b",
      "metadata": {
        "id": "25699e9b"
      },
      "outputs": [],
      "source": [
        "plt.imshow(entropy_map, cmap='inferno')\n",
        "for i, (x, y) in enumerate(node_coords):\n",
        "    plt.plot(x, y, 'ro')\n",
        "    plt.text(x+5, y, str(i), color='white', fontsize=8)\n",
        "plt.title(\"Entropy Map with DLSFH Node Annotations\")\n",
        "plt.axis('off')\n",
        "plt.show()\n"
      ]
    },
    {
      "cell_type": "markdown",
      "id": "ac5756e3",
      "metadata": {
        "id": "ac5756e3"
      },
      "source": [
        "## 🧠 MC–SGCV Diagnostic Report"
      ]
    },
    {
      "cell_type": "code",
      "execution_count": null,
      "id": "589d2073",
      "metadata": {
        "id": "589d2073"
      },
      "outputs": [],
      "source": [
        "σ_c = 0.07\n",
        "mean_entropy = np.mean(entropy_vector)\n",
        "std_entropy = np.std(entropy_vector)\n",
        "inner_ring = entropy_vector[:10]\n",
        "outer_ring = entropy_vector[10:]\n",
        "collapsed_nodes = np.sum(entropy_vector >= σ_c)\n",
        "\n",
        "print(\"=== DLSFH Entropy Report:\", image_date.date(), \"===\")\n",
        "print(f\"Mean Entropy: {mean_entropy:.4f} | Std Dev: {std_entropy:.4f}\")\n",
        "print(f\"Collapsed Nodes (≥ {σ_c}): {collapsed_nodes} / 20\")\n",
        "print(f\"Inner Mean: {np.mean(inner_ring):.4f} | Outer Mean: {np.mean(outer_ring):.4f}\")\n",
        "print(f\"Ring Divergence (Outer - Inner): {np.mean(outer_ring) - np.mean(inner_ring):.4f}\")\n",
        "\n",
        "# Add MC–SGCV Structured Summary\n",
        "if collapsed_nodes > 10:\n",
        "    print(\"\\n⚠️ Coherence tensor is fragmented.\")\n",
        "    print(\"⚠️ SGCV background may be unable to regulate gravito-magnetic balance.\")\n",
        "    print(\"⚠️ This may foreshadow M-class or X-class flare activity.\")\n",
        "else:\n",
        "    print(\"\\n✅ Coherence structure appears stable — no imminent decoherence.\")\n"
      ]
    },
    {
      "cell_type": "markdown",
      "id": "b6dd565c",
      "metadata": {
        "id": "b6dd565c"
      },
      "source": [
        "## 🌞 NOAA Sunspot Timeline Alignment"
      ]
    },
    {
      "cell_type": "code",
      "execution_count": null,
      "id": "6ce5f5b7",
      "metadata": {
        "id": "6ce5f5b7"
      },
      "outputs": [],
      "source": [
        "# 📈 Load NOAA Sunspot Data (API or CSV fallback)\n",
        "import requests\n",
        "import pandas as pd\n",
        "import matplotlib.pyplot as plt\n",
        "import matplotlib.dates as mdates\n",
        "\n",
        "noaa_url = \"https://services.swpc.noaa.gov/json/solar-cycle/observed-solar-cycle-indices.json\"\n",
        "try:\n",
        "    response = requests.get(noaa_url)\n",
        "    response.raise_for_status()\n",
        "    data = response.json()\n",
        "    df = pd.DataFrame(data)\n",
        "    df['date'] = pd.to_datetime(df['time-tag'], errors='coerce')\n",
        "    df = df[['date', 'ssn']].dropna()\n",
        "    print(f\"✅ Loaded NOAA API sunspot data: {len(df)} records.\")\n",
        "except Exception as e:\n",
        "    print(\"⚠️ NOAA API failed. Upload sunspot CSV with 'date' and 'ssn' columns.\")\n",
        "    from google.colab import files\n",
        "    uploaded = files.upload()\n",
        "    filename = next(iter(uploaded))\n",
        "    df = pd.read_csv(filename)\n",
        "    df['date'] = pd.to_datetime(df['date'])\n",
        "    print(f\"✅ Loaded user CSV sunspot data: {len(df)} records.\")\n",
        "\n",
        "# Plot timeline with image date overlay\n",
        "fig, ax = plt.subplots(figsize=(10, 4))\n",
        "ax.plot(df['date'], df['ssn'], label='Smoothed Sunspot Number')\n",
        "ax.axvline(image_date, color='red', linestyle='--', label=f'Image Date: {image_date.date()}')\n",
        "ax.set_title('NOAA Solar Cycle Alignment')\n",
        "ax.set_ylabel('Sunspot Number')\n",
        "ax.legend()\n",
        "ax.xaxis.set_major_formatter(mdates.DateFormatter('%Y-%m'))\n",
        "plt.grid(True)\n",
        "plt.tight_layout()\n",
        "plt.show()\n"
      ]
    }
  ],
  "metadata": {
    "colab": {
      "provenance": [],
      "include_colab_link": true
    },
    "language_info": {
      "name": "python"
    },
    "kernelspec": {
      "name": "python3",
      "display_name": "Python 3"
    }
  },
  "nbformat": 4,
  "nbformat_minor": 5
}